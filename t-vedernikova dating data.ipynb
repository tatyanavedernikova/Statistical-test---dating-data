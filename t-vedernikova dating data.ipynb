{
 "cells": [
  {
   "cell_type": "code",
   "execution_count": 1,
   "metadata": {},
   "outputs": [],
   "source": [
    "import pandas as pd"
   ]
  },
  {
   "cell_type": "code",
   "execution_count": 2,
   "metadata": {},
   "outputs": [],
   "source": [
    "directory = '/mnt/HC_Volume_18315164/home-jupyter/jupyter-t-vedernikova/Statistica/dating_data.csv'\n",
    "df = pd.read_csv(directory)"
   ]
  },
  {
   "cell_type": "code",
   "execution_count": 3,
   "metadata": {},
   "outputs": [
    {
     "data": {
      "text/html": [
       "<div>\n",
       "<style scoped>\n",
       "    .dataframe tbody tr th:only-of-type {\n",
       "        vertical-align: middle;\n",
       "    }\n",
       "\n",
       "    .dataframe tbody tr th {\n",
       "        vertical-align: top;\n",
       "    }\n",
       "\n",
       "    .dataframe thead th {\n",
       "        text-align: right;\n",
       "    }\n",
       "</style>\n",
       "<table border=\"1\" class=\"dataframe\">\n",
       "  <thead>\n",
       "    <tr style=\"text-align: right;\">\n",
       "      <th></th>\n",
       "      <th>user_id_1</th>\n",
       "      <th>user_id_2</th>\n",
       "      <th>group</th>\n",
       "      <th>is_match</th>\n",
       "    </tr>\n",
       "  </thead>\n",
       "  <tbody>\n",
       "    <tr>\n",
       "      <th>0</th>\n",
       "      <td>79</td>\n",
       "      <td>91</td>\n",
       "      <td>1</td>\n",
       "      <td>1</td>\n",
       "    </tr>\n",
       "    <tr>\n",
       "      <th>1</th>\n",
       "      <td>716</td>\n",
       "      <td>353</td>\n",
       "      <td>1</td>\n",
       "      <td>1</td>\n",
       "    </tr>\n",
       "    <tr>\n",
       "      <th>2</th>\n",
       "      <td>423</td>\n",
       "      <td>677</td>\n",
       "      <td>0</td>\n",
       "      <td>0</td>\n",
       "    </tr>\n",
       "  </tbody>\n",
       "</table>\n",
       "</div>"
      ],
      "text/plain": [
       "   user_id_1  user_id_2  group  is_match\n",
       "0         79         91      1         1\n",
       "1        716        353      1         1\n",
       "2        423        677      0         0"
      ]
     },
     "execution_count": 3,
     "metadata": {},
     "output_type": "execute_result"
    }
   ],
   "source": [
    "df.head(3)"
   ]
  },
  {
   "cell_type": "markdown",
   "metadata": {},
   "source": [
    "Значение выборки - 14 514. "
   ]
  },
  {
   "cell_type": "markdown",
   "metadata": {},
   "source": [
    "-  Группа 0 - старый алгоритм\n",
    "-  Группа 1 - новый алгоритм"
   ]
  },
  {
   "cell_type": "code",
   "execution_count": 14,
   "metadata": {},
   "outputs": [
    {
     "data": {
      "text/html": [
       "<div>\n",
       "<style scoped>\n",
       "    .dataframe tbody tr th:only-of-type {\n",
       "        vertical-align: middle;\n",
       "    }\n",
       "\n",
       "    .dataframe tbody tr th {\n",
       "        vertical-align: top;\n",
       "    }\n",
       "\n",
       "    .dataframe thead th {\n",
       "        text-align: right;\n",
       "    }\n",
       "</style>\n",
       "<table border=\"1\" class=\"dataframe\">\n",
       "  <thead>\n",
       "    <tr style=\"text-align: right;\">\n",
       "      <th></th>\n",
       "      <th>group</th>\n",
       "      <th>count</th>\n",
       "    </tr>\n",
       "  </thead>\n",
       "  <tbody>\n",
       "    <tr>\n",
       "      <th>0</th>\n",
       "      <td>0</td>\n",
       "      <td>4792</td>\n",
       "    </tr>\n",
       "    <tr>\n",
       "      <th>1</th>\n",
       "      <td>1</td>\n",
       "      <td>9722</td>\n",
       "    </tr>\n",
       "  </tbody>\n",
       "</table>\n",
       "</div>"
      ],
      "text/plain": [
       "   group  count\n",
       "0      0   4792\n",
       "1      1   9722"
      ]
     },
     "execution_count": 14,
     "metadata": {},
     "output_type": "execute_result"
    }
   ],
   "source": [
    "users_count = df.groupby(['group']).agg(count=('user_id_1', 'count')).reset_index()\n",
    "users_count"
   ]
  },
  {
   "cell_type": "markdown",
   "metadata": {},
   "source": [
    "Распределение в группах неравномерное."
   ]
  },
  {
   "cell_type": "markdown",
   "metadata": {},
   "source": [
    "#### Таблица сопряженности:"
   ]
  },
  {
   "cell_type": "code",
   "execution_count": 4,
   "metadata": {},
   "outputs": [
    {
     "data": {
      "text/html": [
       "<div>\n",
       "<style scoped>\n",
       "    .dataframe tbody tr th:only-of-type {\n",
       "        vertical-align: middle;\n",
       "    }\n",
       "\n",
       "    .dataframe tbody tr th {\n",
       "        vertical-align: top;\n",
       "    }\n",
       "\n",
       "    .dataframe thead th {\n",
       "        text-align: right;\n",
       "    }\n",
       "</style>\n",
       "<table border=\"1\" class=\"dataframe\">\n",
       "  <thead>\n",
       "    <tr style=\"text-align: right;\">\n",
       "      <th>is_match</th>\n",
       "      <th>group</th>\n",
       "      <th>0</th>\n",
       "      <th>1</th>\n",
       "    </tr>\n",
       "  </thead>\n",
       "  <tbody>\n",
       "    <tr>\n",
       "      <th>0</th>\n",
       "      <td>0</td>\n",
       "      <td>3858</td>\n",
       "      <td>934</td>\n",
       "    </tr>\n",
       "    <tr>\n",
       "      <th>1</th>\n",
       "      <td>1</td>\n",
       "      <td>5813</td>\n",
       "      <td>3909</td>\n",
       "    </tr>\n",
       "  </tbody>\n",
       "</table>\n",
       "</div>"
      ],
      "text/plain": [
       "is_match  group     0     1\n",
       "0             0  3858   934\n",
       "1             1  5813  3909"
      ]
     },
     "execution_count": 4,
     "metadata": {},
     "output_type": "execute_result"
    }
   ],
   "source": [
    "contingency_table = pd.crosstab(df['group'], df['is_match'])\n",
    "contingency_table = contingency_table.reset_index()\n",
    "contingency_table"
   ]
  },
  {
   "cell_type": "markdown",
   "metadata": {},
   "source": [
    "#### Процентное распределение значений переменных внутри каждой группы:"
   ]
  },
  {
   "cell_type": "code",
   "execution_count": 5,
   "metadata": {},
   "outputs": [
    {
     "data": {
      "text/html": [
       "<div>\n",
       "<style scoped>\n",
       "    .dataframe tbody tr th:only-of-type {\n",
       "        vertical-align: middle;\n",
       "    }\n",
       "\n",
       "    .dataframe tbody tr th {\n",
       "        vertical-align: top;\n",
       "    }\n",
       "\n",
       "    .dataframe thead th {\n",
       "        text-align: right;\n",
       "    }\n",
       "</style>\n",
       "<table border=\"1\" class=\"dataframe\">\n",
       "  <thead>\n",
       "    <tr style=\"text-align: right;\">\n",
       "      <th>is_match</th>\n",
       "      <th>group</th>\n",
       "      <th>0</th>\n",
       "      <th>1</th>\n",
       "      <th>group_0_percent</th>\n",
       "      <th>group_1_percent</th>\n",
       "    </tr>\n",
       "  </thead>\n",
       "  <tbody>\n",
       "    <tr>\n",
       "      <th>0</th>\n",
       "      <td>0</td>\n",
       "      <td>3858</td>\n",
       "      <td>934</td>\n",
       "      <td>39.892462</td>\n",
       "      <td>19.285567</td>\n",
       "    </tr>\n",
       "    <tr>\n",
       "      <th>1</th>\n",
       "      <td>1</td>\n",
       "      <td>5813</td>\n",
       "      <td>3909</td>\n",
       "      <td>60.107538</td>\n",
       "      <td>80.714433</td>\n",
       "    </tr>\n",
       "  </tbody>\n",
       "</table>\n",
       "</div>"
      ],
      "text/plain": [
       "is_match  group     0     1  group_0_percent  group_1_percent\n",
       "0             0  3858   934        39.892462        19.285567\n",
       "1             1  5813  3909        60.107538        80.714433"
      ]
     },
     "execution_count": 5,
     "metadata": {},
     "output_type": "execute_result"
    }
   ],
   "source": [
    "# Добавление столбцов с процентным распределением значений переменных внутри каждой группы\n",
    "contingency_table['group_0_percent'] = (contingency_table[0] / contingency_table[0].sum()) * 100\n",
    "contingency_table['group_1_percent'] = (contingency_table[1] / contingency_table[1].sum()) * 100\n",
    "contingency_table"
   ]
  },
  {
   "cell_type": "markdown",
   "metadata": {},
   "source": [
    "В группе 0 39.89% наблюдений имеют значение 0, а 60.11% наблюдений имеют значение 1. В группе 1 19.29% наблюдений имеют значение 0, а 80.71% наблюдений имеют значение 1."
   ]
  },
  {
   "cell_type": "code",
   "execution_count": 8,
   "metadata": {},
   "outputs": [
    {
     "data": {
      "text/plain": [
       "<matplotlib.legend.Legend at 0x7f2445071550>"
      ]
     },
     "execution_count": 8,
     "metadata": {},
     "output_type": "execute_result"
    },
    {
     "data": {
      "image/png": "[encoded data removed]",
      "text/plain": [
       "<Figure size 576x432 with 1 Axes>"
      ]
     },
     "metadata": {
      "needs_background": "light"
     },
     "output_type": "display_data"
    }
   ],
   "source": [
    "import matplotlib.pyplot as plt\n",
    "\n",
    "# Данные для построения графика\n",
    "groups = ['Group 0', 'Group 1']\n",
    "percent_0 = [39.89, 60.11]  # Процент значений 0 в каждой группе\n",
    "percent_1 = [19.29, 80.71]  # Процент значений 1 в каждой группе\n",
    "\n",
    "# Создание столбчатой диаграммы\n",
    "plt.figure(figsize=(8, 6))\n",
    "bar_width = 0.35\n",
    "index = range(len(groups))\n",
    "\n",
    "bar1 = plt.bar(index, percent_0, bar_width, label='not_match')\n",
    "bar2 = plt.bar([i + bar_width for i in index], percent_1, bar_width, label='is_match')\n",
    "\n",
    "# Добавление подписей к графику\n",
    "plt.xlabel('Groups')\n",
    "plt.ylabel('Percentage')\n",
    "plt.title('Percentage Distribution of is_match Values by Group')\n",
    "plt.xticks([i + bar_width/2 for i in index], groups)\n",
    "plt.legend()"
   ]
  },
  {
   "cell_type": "markdown",
   "metadata": {},
   "source": [
    "## Тест Хи-квадрат"
   ]
  },
  {
   "cell_type": "code",
   "execution_count": 6,
   "metadata": {},
   "outputs": [
    {
     "name": "stdout",
     "output_type": "stream",
     "text": [
      "Хи-квадрат статистика: 618.6889141576198\n",
      "p-значение: 1.4418299163662586e-136\n",
      "Степени свободы: 1\n",
      "Ожидаемые частоты: [[3193.01584677 1598.98415323]\n",
      " [6477.98415323 3244.01584677]]\n"
     ]
    }
   ],
   "source": [
    "from scipy.stats import chi2_contingency\n",
    "\n",
    "# Создание таблицы сопряженности\n",
    "contingency_table = pd.crosstab(df['group'], df['is_match'])\n",
    "\n",
    "# Проведение теста хи-квадрат\n",
    "chi2, p, dof, expected = chi2_contingency(contingency_table)\n",
    "\n",
    "print(\"Хи-квадрат статистика:\", chi2)\n",
    "print(\"p-значение:\", p)\n",
    "print(\"Степени свободы:\", dof)\n",
    "print(\"Ожидаемые частоты:\", expected)"
   ]
  },
  {
   "cell_type": "markdown",
   "metadata": {},
   "source": [
    "Полученные результаты теста хи-квадрат указывают на то, что между переменными \"group\" и \"is_match\" существует статистически значимая связь.\n",
    "1. Хи-квадрат статистика: Значение 618.69 указывает на силу связи между переменными. Чем больше значение хи-квадрат, тем сильнее связь между переменными.\n",
    "2. p-значение: Очень маленькое значение p-значения (1.44e-136) говорит о том, что вероятность получить такие или более экстремальные результаты при условии независимости переменных крайне мала. Мы можем отвергнуть нулевую гипотезу о независимости переменных и сделать вывод о наличии статистически значимой связи между ними.\n",
    "3. Степени свободы: В данном случае степени свободы равны 1, так как у нас две категориальные переменные.\n",
    "4. Ожидаемые частоты: Это матрица, которая показывает ожидаемое количество наблюдений в каждой ячейке таблицы сопряженности, если переменные были независимы. Значения в этой матрице сравниваются с фактическими наблюдениями, чтобы определить, насколько они отличаются.\n",
    "\n",
    "Исходя из полученных результатов, можно сделать вывод о том, что переменные \"group\" и \"is_match\" имеют статистически значимую связь. "
   ]
  },
  {
   "cell_type": "markdown",
   "metadata": {},
   "source": [
    "#### По результатам теста Хи-квадрат можно сделать вывод, что новый алгоритм работает лучше."
   ]
  },
  {
   "cell_type": "code",
   "execution_count": null,
   "metadata": {},
   "outputs": [],
   "source": []
  },
  {
   "cell_type": "markdown",
   "metadata": {},
   "source": [
    "### Bootstrap"
   ]
  },
  {
   "cell_type": "code",
   "execution_count": 15,
   "metadata": {},
   "outputs": [
    {
     "name": "stdout",
     "output_type": "stream",
     "text": [
      "95% доверительный интервал для среднего значения is_match: [0.32644171 0.34146341]\n"
     ]
    }
   ],
   "source": [
    "import numpy as np\n",
    "\n",
    "# Функция для генерации бутстрэп-выборок\n",
    "def bootstrap_mean(data, n_bootstrap):\n",
    "    bootstrap_means = []\n",
    "    for _ in range(n_bootstrap):\n",
    "        bootstrap_sample = np.random.choice(data, size=len(data), replace=True)\n",
    "        bootstrap_mean = np.mean(bootstrap_sample)\n",
    "        bootstrap_means.append(bootstrap_mean)\n",
    "    return bootstrap_means\n",
    "\n",
    "# Вычисление среднего значения переменной \"is_match\" в каждой бутстрэп-выборке\n",
    "data = df['is_match'].values\n",
    "n_bootstrap = 1000  # Количество бутстрэп-выборок\n",
    "bootstrap_means = bootstrap_mean(data, n_bootstrap)\n",
    "\n",
    "# Построение 95% доверительного интервала\n",
    "confidence_interval = np.percentile(bootstrap_means, [2.5, 97.5])\n",
    "\n",
    "print(\"95% доверительный интервал для среднего значения is_match:\", confidence_interval)\n"
   ]
  },
  {
   "cell_type": "markdown",
   "metadata": {},
   "source": [
    "95% доверительный интервал для среднего значения переменной \"is_match\" [0.32644171, 0.34146341] означает следующее:\n",
    "1. **Доверительный интервал**: Этот интервал указывает на диапазон значений, в пределах которого, с вероятностью 95%, находится истинное среднее значение переменной \"is_match\" в вашей выборке. Другими словами, с вероятностью 95% истинное среднее значение переменной \"is_match\" будет находиться между 0.32644171 и 0.34146341.\n",
    "2. **Интерпретация**: Это означает, что если бы вы многократно повторяли процесс сбора выборок и вычисления среднего значения переменной \"is_match\", то в 95% случаев истинное среднее значение переменной \"is_match\" будет попадать в указанный доверительный интервал.\n",
    "3. **Значимость интервала**: Так как доверительный интервал не содержит нулевое значение, это может указывать на статистически значимое различие между группами или наличие эффекта в переменной \"is_match\".\n",
    "\n",
    "Итак, в данном случае, 95% доверительный интервал для среднего значения переменной \"is_match\" указывает на диапазон значений, в котором с высокой вероятностью находится истинное среднее значение этой переменной в вашей выборке."
   ]
  },
  {
   "cell_type": "code",
   "execution_count": null,
   "metadata": {},
   "outputs": [],
   "source": []
  },
  {
   "cell_type": "markdown",
   "metadata": {},
   "source": [
    " ### По результатам двух тестов очевидно, что новый алгоритм работает лучше."
   ]
  },
  {
   "cell_type": "code",
   "execution_count": null,
   "metadata": {},
   "outputs": [],
   "source": []
  }
 ],
 "metadata": {
  "kernelspec": {
   "display_name": "Python 3",
   "language": "python",
   "name": "python3"
  },
  "language_info": {
   "codemirror_mode": {
    "name": "ipython",
    "version": 3
   },
   "file_extension": ".py",
   "mimetype": "text/x-python",
   "name": "python",
   "nbconvert_exporter": "python",
   "pygments_lexer": "ipython3",
   "version": "3.7.3"
  }
 },
 "nbformat": 4,
 "nbformat_minor": 4
}
